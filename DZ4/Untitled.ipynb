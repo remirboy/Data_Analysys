{
 "cells": [
  {
   "cell_type": "code",
   "execution_count": 25,
   "metadata": {},
   "outputs": [
    {
     "name": "stdout",
     "output_type": "stream",
     "text": [
      "<class 'pandas.core.frame.DataFrame'>\n",
      "RangeIndex: 22223 entries, 0 to 22222\n",
      "Data columns (total 13 columns):\n",
      "ID                 22223 non-null int64\n",
      "DemAffl            21138 non-null float64\n",
      "DemAge             20715 non-null float64\n",
      "DemCluster         21549 non-null float64\n",
      "DemClusterGroup    21549 non-null object\n",
      "DemGender          19711 non-null object\n",
      "DemReg             21758 non-null object\n",
      "DemTVReg           21758 non-null object\n",
      "PromClass          22223 non-null object\n",
      "PromSpend          22223 non-null float64\n",
      "PromTime           21942 non-null float64\n",
      "TargetBuy          22223 non-null int64\n",
      "TargetAmt          22223 non-null int64\n",
      "dtypes: float64(5), int64(3), object(5)\n",
      "memory usage: 2.2+ MB\n",
      "       DemAffl  DemAge  DemCluster  PromSpend  PromTime\n",
      "0         10.0    76.0        16.0   16000.00       4.0\n",
      "1          4.0    49.0        35.0    6000.00       5.0\n",
      "2          5.0    70.0        27.0       0.02       8.0\n",
      "3         10.0    65.0        51.0       0.01       7.0\n",
      "4         11.0    68.0         4.0       0.01       8.0\n",
      "...        ...     ...         ...        ...       ...\n",
      "22218     13.0    65.0         9.0    1500.00       5.0\n",
      "22219     15.0    73.0        34.0    6053.06      12.0\n",
      "22220      9.0    70.0        15.0    6000.00       5.0\n",
      "22221     11.0    66.0         8.0    5000.00       5.0\n",
      "22222      3.0    75.0        53.0    6000.00       2.0\n",
      "\n",
      "[22223 rows x 5 columns]\n",
      "4838\n",
      "1178\n",
      "471\n",
      "180\n",
      "0.7963101844907755\n",
      "0.2856276531231049\n",
      "0.7235023041474654\n",
      "0.4095652173913043\n",
      "0.624878394118348\n",
      "0.36303504347722515\n",
      "0.31343626522339785\n"
     ]
    },
    {
     "data": {
      "image/png": "[encoded data removed]",
      "text/plain": [
       "<Figure size 432x288 with 1 Axes>"
      ]
     },
     "metadata": {
      "needs_background": "light"
     },
     "output_type": "display_data"
    }
   ],
   "source": [
    "import numpy as np\n",
    "import pandas as pd\n",
    "import pylab as pl\n",
    "import matplotlib.pyplot as plt\n",
    "plt.style.use('ggplot')\n",
    "%matplotlib inline\n",
    "import seaborn as sns\n",
    "\n",
    "from sklearn.tree import DecisionTreeClassifier\n",
    "import sklearn.metrics as metric\n",
    "from sklearn.model_selection import train_test_split\n",
    "from sklearn.linear_model import LogisticRegression\n",
    "\n",
    "df=pd.read_csv('/Users/remir/Desktop/DATA-ANALYSYS_2-master/Dataset/ORGANICS.csv',encoding=\"cp1251\")\n",
    "\n",
    "df.info()\n",
    "df = df.fillna(df.median(axis=0), axis=0)\n",
    "\n",
    "x = df[[c for c in df.columns if df[c].dtype.name != 'object' and c !=\"ID\"and c !=\"TargetBuy\" and c != \"TargetAmt\" ]]\n",
    "print(x)\n",
    "y = df.values[::,11]\n",
    "\n",
    "X_train, X_test, y_train, y_test = train_test_split(x, y, test_size=0.3)\n",
    "\n",
    "y_test = y_test.astype(int)\n",
    "y_train = y_train.astype(int)\n",
    "\n",
    "tree = DecisionTreeClassifier(max_depth=5, criterion = \"entropy\", random_state=0)\n",
    "tree.fit(X_train, y_train)\n",
    "\n",
    "cm = metrics.confusion_matrix(y_test, tree.predict(X_test))\n",
    "\n",
    "print(cm[0][0])\n",
    "print(cm[1][0])\n",
    "print(cm[1][1])\n",
    "print(cm[0][1]) \n",
    "\n",
    "preds = tree.predict(X_test) \n",
    "\n",
    "print(metric.accuracy_score(y_test, preds))\n",
    "print(metric.recall_score(y_test, preds))\n",
    "print(metric.precision_score(y_test, preds))\n",
    "print(metric.f1_score(y_test, preds))\n",
    "print(metric.balanced_accuracy_score(y_test, preds))\n",
    "print(metric.matthews_corrcoef(y_test, preds))\n",
    "print(metric.cohen_kappa_score(y_test, preds))\n",
    "\n",
    "\n",
    "pred_prob = tree.predict_proba(X_test)\n",
    "preds = pred_prob[:, -1]\n",
    "fpr, tpr, threshold = metrics.roc_curve(y_test, preds)\n",
    "roc_auc = metric.auc(fpr, tpr)\n",
    "\n",
    "plt.title('Characteristic')\n",
    "plt.plot(fpr, tpr, 'b', label='AUC=%0.2f' % roc_auc)\n",
    "plt.legend(loc = 'lower right')\n",
    "plt.plot([0, 1], [0, 1],'r--')\n",
    "plt.xlim([0, 1])\n",
    "plt.ylim([0, 1])\n",
    "plt.ylabel('True Positive Rate')\n",
    "plt.xlabel('False Positive Rate')\n",
    "plt.show()"
   ]
  },
  {
   "cell_type": "code",
   "execution_count": null,
   "metadata": {},
   "outputs": [],
   "source": []
  },
  {
   "cell_type": "code",
   "execution_count": null,
   "metadata": {},
   "outputs": [],
   "source": []
  }
 ],
 "metadata": {
  "kernelspec": {
   "display_name": "Python 3",
   "language": "python",
   "name": "python3"
  },
  "language_info": {
   "codemirror_mode": {
    "name": "ipython",
    "version": 3
   },
   "file_extension": ".py",
   "mimetype": "text/x-python",
   "name": "python",
   "nbconvert_exporter": "python",
   "pygments_lexer": "ipython3",
   "version": "3.7.4"
  }
 },
 "nbformat": 4,
 "nbformat_minor": 2
}
