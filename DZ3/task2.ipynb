{
 "cells": [
  {
   "cell_type": "code",
   "execution_count": 6,
   "metadata": {},
   "outputs": [
    {
     "name": "stdout",
     "output_type": "stream",
     "text": [
      "0.9\n"
     ]
    },
    {
     "data": {
      "text/plain": [
       "0.8164794007490637"
      ]
     },
     "execution_count": 6,
     "metadata": {},
     "output_type": "execute_result"
    }
   ],
   "source": [
    "import numpy as np\n",
    "import pandas as pd\n",
    "import pylab as pl\n",
    "import matplotlib.pyplot as plt\n",
    "plt.style.use('ggplot')\n",
    "%matplotlib inline\n",
    "import seaborn as sns\n",
    "\n",
    "from sklearn.tree import DecisionTreeClassifier\n",
    "from sklearn.ensemble import RandomForestClassifier\n",
    "from sklearn.model_selection import train_test_split\n",
    "from sklearn.metrics import accuracy_score\n",
    "\n",
    "from sklearn.preprocessing import LabelEncoder\n",
    "from sklearn.preprocessing import OneHotEncoder\n",
    "df=pd.read_csv(\"/Users/remir/data/DZ3/files/titanic.csv\",encoding=\"cp1251\")\n",
    "df = df.fillna(df.median(axis=0), axis=0)\n",
    "#Бинарное кодирование столбца 'sex'\n",
    "def code_myohe(data, feature):\n",
    "    for i in data[feature].unique():\n",
    "        data[feature + \"=\" + i] = (data[feature] == i).astype(int)\n",
    "        \n",
    "le = LabelEncoder()\n",
    "le.fit(df['Sex'])\n",
    "df[df['Sex'].name +'N'] = le.fit_transform(df['Sex'])\n",
    "code_myohe(df, 'Sex')\n",
    "    \n",
    "df\n",
    "#Выбираем количественные столбцы\n",
    "x = df[['Age', 'Pclass','Fare', 'Sex=male', 'Sex=female']]\n",
    "y = df.values[::,0]\n",
    "#Строим дерево решений и определям точность на контроле\n",
    "X_train, X_test, y_train, y_test = train_test_split(x, y, test_size=0.3)\n",
    "\n",
    "y_train = y_train.astype(int)\n",
    "tree=DecisionTreeClassifier(max_depth=10, min_samples_leaf=2, max_features=5,criterion = \"entropy\", random_state=1)\n",
    "tree.fit(X_train, y_train)\n",
    "print(tree.score(X_train, y_train))\n",
    "y_test = y_test.astype(int)\n",
    "accuracy_score(y_test, tree.predict(X_test))"
   ]
  },
  {
   "cell_type": "code",
   "execution_count": 7,
   "metadata": {},
   "outputs": [
    {
     "name": "stdout",
     "output_type": "stream",
     "text": [
      "0.8962708958422632\n"
     ]
    },
    {
     "data": {
      "text/plain": [
       "0.858"
      ]
     },
     "execution_count": 7,
     "metadata": {},
     "output_type": "execute_result"
    }
   ],
   "source": [
    "import numpy as np\n",
    "import pandas as pd\n",
    "import pylab as pl\n",
    "import matplotlib.pyplot as plt\n",
    "plt.style.use('ggplot')\n",
    "%matplotlib inline\n",
    "import seaborn as sns\n",
    "\n",
    "from sklearn.tree import DecisionTreeClassifier\n",
    "from sklearn.ensemble import RandomForestClassifier\n",
    "from sklearn.model_selection import train_test_split\n",
    "from sklearn.metrics import accuracy_score\n",
    "\n",
    "from sklearn.preprocessing import LabelEncoder\n",
    "from sklearn.preprocessing import OneHotEncoder\n",
    "df=pd.read_csv(\"/Users/remir/data/DZ3/files/telecom_churn.csv\",encoding=\"cp1251\")\n",
    "df = df.fillna(df.median(axis=0), axis=0)\n",
    "#Выбираем количественные столбцы\n",
    "x = df[['total day minutes', 'total eve charge', 'total day charge', 'total eve calls', 'total night charge', 'total intl charge']]\n",
    "y = df.values[::,-1]\n",
    "#Строим дерево решений и определям точность на контроле\n",
    "X_train, X_test, y_train, y_test = train_test_split(x, y, test_size=0.3)\n",
    "\n",
    "y_train = y_train.astype(int)\n",
    "tree=DecisionTreeClassifier(max_depth=5, min_samples_leaf=2, criterion = \"entropy\", random_state=1)\n",
    "tree.fit(X_train, y_train)\n",
    "print(tree.score(X_train, y_train))\n",
    "y_test = y_test.astype(int)\n",
    "accuracy_score(y_test, tree.predict(X_test))"
   ]
  },
  {
   "cell_type": "code",
   "execution_count": 12,
   "metadata": {},
   "outputs": [
    {
     "name": "stdout",
     "output_type": "stream",
     "text": [
      "0.8305400372439479\n",
      "0.7229437229437229\n"
     ]
    }
   ],
   "source": [
    "import numpy as np\n",
    "import pandas as pd\n",
    "import pylab as pl\n",
    "import matplotlib.pyplot as plt\n",
    "plt.style.use('ggplot')\n",
    "%matplotlib inline\n",
    "import seaborn as sns\n",
    "\n",
    "from sklearn.tree import DecisionTreeClassifier\n",
    "from sklearn.ensemble import RandomForestClassifier\n",
    "from sklearn.model_selection import train_test_split\n",
    "from sklearn.metrics import accuracy_score\n",
    "\n",
    "from sklearn.preprocessing import LabelEncoder\n",
    "from sklearn.preprocessing import OneHotEncoder\n",
    "df=pd.read_csv(\"/Users/remir/data/DZ3/files/diabetes.csv\",encoding=\"cp1251\")\n",
    "\n",
    "\n",
    "x = df[['Glucose','Insulin','BMI','DiabetesPedigreeFunction',\"BloodPressure\",'Age']]\n",
    "y = df.values[::,-1]\n",
    "\n",
    "X_train, X_test, y_train, y_test = train_test_split(x, y, test_size=0.3)\n",
    "\n",
    "y_train = y_train.astype(int)\n",
    "tree=DecisionTreeClassifier(max_depth=5, min_samples_leaf = 7)\n",
    "tree.fit(X_train, y_train)\n",
    "print(tree.score(X_train, y_train))\n",
    "y_test = y_test.astype(int)\n",
    "print(tree.score(X_test, y_test))"
   ]
  },
  {
   "cell_type": "code",
   "execution_count": null,
   "metadata": {},
   "outputs": [],
   "source": []
  }
 ],
 "metadata": {
  "kernelspec": {
   "display_name": "Python 3",
   "language": "python",
   "name": "python3"
  },
  "language_info": {
   "codemirror_mode": {
    "name": "ipython",
    "version": 3
   },
   "file_extension": ".py",
   "mimetype": "text/x-python",
   "name": "python",
   "nbconvert_exporter": "python",
   "pygments_lexer": "ipython3",
   "version": "3.7.4"
  }
 },
 "nbformat": 4,
 "nbformat_minor": 2
}
