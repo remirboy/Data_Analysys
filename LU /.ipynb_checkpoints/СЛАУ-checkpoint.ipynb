{
 "cells": [
  {
   "cell_type": "markdown",
   "metadata": {},
   "source": [
    "1)Решить систему уравнений методом Гаусса(см. фотографию)"
   ]
  },
  {
   "cell_type": "markdown",
   "metadata": {},
   "source": [
    "2)Проверить на совместность и выяснить, сколько решений будет иметь система линейных уравнений:"
   ]
  },
  {
   "cell_type": "code",
   "execution_count": 2,
   "metadata": {},
   "outputs": [
    {
     "name": "stdout",
     "output_type": "stream",
     "text": [
      "Ранг матрицы коэфициентов: 3\n",
      "Ранг расширенной матрицы: 3\n",
      "Ранг расширенной матрицы равен рангу матрицы коэффициентов и равен количеству неизвестных, значит система совместна с единственным решением\n"
     ]
    }
   ],
   "source": [
    "import numpy as np\n",
    "A = np.array([[3, -1, 1], [2, -5, -3], [1, 1, -1]])\n",
    "print(\"Ранг матрицы коэфициентов:\", np.linalg.matrix_rank(A))\n",
    "A_ = np.array([[3, -1, 1, 4], [2, -5, -3, -17], [1, 1, -1, 0]])\n",
    "print(\"Ранг расширенной матрицы:\", np.linalg.matrix_rank(A_))\n",
    "print(\"Ранг расширенной матрицы равен рангу матрицы коэффициентов и равен количеству неизвестных, значит система совместна с единственным решением\")"
   ]
  },
  {
   "cell_type": "code",
   "execution_count": 3,
   "metadata": {},
   "outputs": [
    {
     "name": "stdout",
     "output_type": "stream",
     "text": [
      "Ранг матрицы коэфициентов: 2\n",
      "Ранг расширенной матрицы: 3\n",
      "Ранг расширенной матрицы больше ранга матрицы коэффициентов, значит система несовместна\n"
     ]
    }
   ],
   "source": [
    "A = np.array([[2,-4,-6],[1,-2,3],[3,-6,9]])\n",
    "print(\"Ранг матрицы коэфициентов:\", np.linalg.matrix_rank(A))\n",
    "A_ = np.array([[2,-4,-6,1],[1,-2,3,-2],[3,-6,9,5]])\n",
    "print(\"Ранг расширенной матрицы:\", np.linalg.matrix_rank(A_))\n",
    "print(\"Ранг расширенной матрицы больше ранга матрицы коэффициентов, значит система несовместна\")"
   ]
  },
  {
   "cell_type": "code",
   "execution_count": 4,
   "metadata": {},
   "outputs": [
    {
     "name": "stdout",
     "output_type": "stream",
     "text": [
      "Ранг матрицы коэфициентов: 2\n",
      "Ранг расширенной матрицы: 2\n",
      "Ранг расширенной матрицы равен рангу матрицы коэффициентов, но меньше числа неизвестных, значит система совместна и имеет бесконечно много решений\n"
     ]
    }
   ],
   "source": [
    "A = np.array([[1,2,5],[3,1,-8]])\n",
    "print(\"Ранг матрицы коэфициентов:\", np.linalg.matrix_rank(A))\n",
    "A_ = np.array([[1,2,5,4],[3,1,-8,-2]])\n",
    "print(\"Ранг расширенной матрицы:\", np.linalg.matrix_rank(A_))\n",
    "print(\"Ранг расширенной матрицы равен рангу матрицы коэффициентов, но меньше числа неизвестных, значит система совместна и имеет бесконечно много решений\")"
   ]
  },
  {
   "cell_type": "markdown",
   "metadata": {},
   "source": [
    "3)Проверить на совместность и выяснить, сколько решений будет иметь система линейных уравнений, заданная расширенной матрицей"
   ]
  },
  {
   "cell_type": "code",
   "execution_count": 5,
   "metadata": {},
   "outputs": [
    {
     "name": "stdout",
     "output_type": "stream",
     "text": [
      "Ранг матрицы коэфициентов: 4\n",
      "Ранг расширенной матрицы: 4\n",
      "Согласно Теореме Кронекера — Капелли система совместна и имеет одно решение так как ранг матрицы коэфициентов и расширеной матрицы совпадают и равны числу неизвестных\n"
     ]
    }
   ],
   "source": [
    "import numpy as np\n",
    "A = np.array([[1,3,-2,4],[0,5,0,1],[0,0,3,0],[0,0,0,2]])\n",
    "\n",
    "A_ = np.array([[1,3,-2,4,3],[0,5,0,1,2],[0,0,3,0,4],[0,0,0,2,1]])\n",
    "\n",
    "print(\"Ранг матрицы коэфициентов:\", np.linalg.matrix_rank(A))\n",
    "print(\"Ранг расширенной матрицы:\", np.linalg.matrix_rank(A_))\n",
    "print(\"Согласно Теореме Кронекера — Капелли система совместна и имеет одно решение так как ранг матрицы коэфициентов и расширеной матрицы совпадают и равны числу неизвестных\")"
   ]
  },
  {
   "cell_type": "markdown",
   "metadata": {},
   "source": [
    "4)Дана система линейных уравнений, заданная расширенной матрицей.Найти соотношение между параметрами $a$, $b$ и $c$, при которых система является несовместной(см. фотографию)."
   ]
  },
  {
   "cell_type": "markdown",
   "metadata": {},
   "source": [
    "5)Решить систему уравнений методом Крамера:"
   ]
  },
  {
   "cell_type": "code",
   "execution_count": 6,
   "metadata": {},
   "outputs": [
    {
     "name": "stdout",
     "output_type": "stream",
     "text": [
      "а)\n",
      "х1 = 5\n",
      "х2 = 2\n"
     ]
    }
   ],
   "source": [
    "A = np.array([[1,-2],[3,-4]])\n",
    "A1 = np.array([[1,-2],[7,-4]])\n",
    "A2 = np.array([[1,1],[3,7]])\n",
    "print(f'а)')\n",
    "print(f'х1 = {np.linalg.det(A1)/np.linalg.det(A):.0f}')\n",
    "print(f'х2 = {np.linalg.det(A2)/np.linalg.det(A):.0f}')\n"
   ]
  },
  {
   "cell_type": "markdown",
   "metadata": {},
   "source": [
    "6)Решить систему уравнений методом Крамера:"
   ]
  },
  {
   "cell_type": "code",
   "execution_count": 8,
   "metadata": {},
   "outputs": [
    {
     "name": "stdout",
     "output_type": "stream",
     "text": [
      "[[ 3.         26.         30.        ]\n",
      " [ 0.         -8.33333333 -8.        ]\n",
      " [ 0.          0.          0.4       ]]\n",
      "[[ 1.  2.  4.]\n",
      " [ 2.  9. 12.]\n",
      " [ 3. 26. 30.]]\n",
      "L-матрица:\n",
      "[[1.         0.         0.        ]\n",
      " [0.66666667 1.         0.        ]\n",
      " [0.33333333 0.8        1.        ]]\n"
     ]
    }
   ],
   "source": [
    "from scipy.linalg import lu\n",
    "A = np.array([[1, 2, 4], [2, 9, 12], [3, 26, 30]])\n",
    "P, L, U = lu(A)\n",
    "B = P.dot(L).dot(U)\n",
    "print(B)\n",
    "print('L-матрица:')\n",
    "print(L)\n"
   ]
  },
  {
   "cell_type": "markdown",
   "metadata": {},
   "source": [
    "7)Решить систему линейных уравнений методом $LU$-разложения"
   ]
  },
  {
   "cell_type": "code",
   "execution_count": 9,
   "metadata": {},
   "outputs": [
    {
     "name": "stdout",
     "output_type": "stream",
     "text": [
      "[[ 1.          0.          0.        ]\n",
      " [ 0.81818182  1.          0.        ]\n",
      " [ 0.18181818 -0.12        1.        ]]\n"
     ]
    }
   ],
   "source": [
    "A = np.array([[2, 1, 3], [11, 7, 5], [9, 8, 4]])\n",
    "P, L, U = lu(A)\n",
    "print(L)"
   ]
  },
  {
   "cell_type": "markdown",
   "metadata": {},
   "source": [
    "Решим полученную систему c L"
   ]
  },
  {
   "cell_type": "code",
   "execution_count": 10,
   "metadata": {},
   "outputs": [
    {
     "name": "stdout",
     "output_type": "stream",
     "text": [
      "[[11.          7.          5.        ]\n",
      " [ 0.          2.27272727 -0.09090909]\n",
      " [ 0.          0.          2.08      ]]\n"
     ]
    }
   ],
   "source": [
    "print(U)"
   ]
  },
  {
   "cell_type": "markdown",
   "metadata": {},
   "source": [
    "Решим полученную систему c U"
   ]
  },
  {
   "cell_type": "markdown",
   "metadata": {},
   "source": [
    "8)Решить систему линейных уравнений методом Холецкого\n"
   ]
  },
  {
   "cell_type": "code",
   "execution_count": 11,
   "metadata": {},
   "outputs": [
    {
     "name": "stdout",
     "output_type": "stream",
     "text": [
      "[[ 9.  0.  0.]\n",
      " [-5.  5.  0.]\n",
      " [ 5.  2.  3.]]\n"
     ]
    }
   ],
   "source": [
    "from numpy.linalg import cholesky\n",
    "A = np.array([[81, -45, 45], [-45, 50, -15], [45, -15, 38]])\n",
    "L = cholesky(A)\n",
    "LT = L.T\n",
    "print(L)"
   ]
  },
  {
   "cell_type": "markdown",
   "metadata": {},
   "source": [
    "Решим систему $Ly=b:$ и  $L^{T}x=y:$ в фото Ly=b.jpg и Ly=b.jpg соответственно"
   ]
  },
  {
   "cell_type": "markdown",
   "metadata": {},
   "source": [
    "Найти с помощью NumPy SVD для матрицы"
   ]
  },
  {
   "cell_type": "code",
   "execution_count": 14,
   "metadata": {},
   "outputs": [
    {
     "name": "stdout",
     "output_type": "stream",
     "text": [
      "Матрица D:\n",
      "[[8.82486885 0.         0.        ]\n",
      " [0.         6.14060608 0.        ]\n",
      " [0.         0.         2.53271528]\n",
      " [0.         0.         0.        ]\n",
      " [0.         0.         0.        ]]\n",
      "Матрица U:\n",
      "[[ 0.17056501  0.15680918 -0.53077508 -0.79905375 -0.16158397]\n",
      " [ 0.39287016 -0.52933945  0.6134793  -0.43375771  0.03082495]\n",
      " [-0.14366152 -0.82449256 -0.52379105  0.14049848  0.07400343]\n",
      " [ 0.88843702  0.06074346 -0.24655277  0.37755832 -0.06042632]\n",
      " [ 0.08125046  0.10831843 -0.08231425 -0.10524851  0.98173958]]\n",
      "Матрица V:\n",
      "[[ 0.07116451 -0.36737824 -0.92734505]\n",
      " [ 0.71702467  0.66514082 -0.20847855]\n",
      " [ 0.69340553 -0.65009301  0.31075368]]\n"
     ]
    }
   ],
   "source": [
    "A = np.array([[1, 2, 0], [0, 0, 5], [3, -4, 2], [1, 6, 5], [0, 1, 0]])\n",
    "U, s, VT = np.linalg.svd(A)\n",
    "V = VT.T\n",
    "D = np.zeros_like(A, dtype=float)\n",
    "D[np.diag_indices(min(A.shape))] = s\n",
    "print(f'Матрица D:\\n{D}')\n",
    "print(f'Матрица U:\\n{U}')\n",
    "print(f'Матрица V:\\n{V}')\n"
   ]
  },
  {
   "cell_type": "code",
   "execution_count": null,
   "metadata": {},
   "outputs": [],
   "source": []
  }
 ],
 "metadata": {
  "kernelspec": {
   "display_name": "Python 3",
   "language": "python",
   "name": "python3"
  },
  "language_info": {
   "codemirror_mode": {
    "name": "ipython",
    "version": 3
   },
   "file_extension": ".py",
   "mimetype": "text/x-python",
   "name": "python",
   "nbconvert_exporter": "python",
   "pygments_lexer": "ipython3",
   "version": "3.7.4"
  }
 },
 "nbformat": 4,
 "nbformat_minor": 2
}
